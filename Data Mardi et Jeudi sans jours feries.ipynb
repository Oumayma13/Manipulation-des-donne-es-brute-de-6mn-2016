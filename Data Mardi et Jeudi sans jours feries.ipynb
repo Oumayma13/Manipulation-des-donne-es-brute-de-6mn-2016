{
 "cells": [
  {
   "cell_type": "code",
   "execution_count": 1,
   "metadata": {},
   "outputs": [],
   "source": [
    "import os\n",
    "import pandas as pd "
   ]
  },
  {
   "cell_type": "code",
   "execution_count": 2,
   "metadata": {},
   "outputs": [],
   "source": [
    "df = pd.read_csv('t16.csv', sep = ',')\n",
    "df['jjmmaa'] = pd.to_datetime(df['jjmmaa'])  "
   ]
  },
  {
   "cell_type": "code",
   "execution_count": 3,
   "metadata": {},
   "outputs": [
    {
     "data": {
      "text/html": [
       "<div>\n",
       "<style scoped>\n",
       "    .dataframe tbody tr th:only-of-type {\n",
       "        vertical-align: middle;\n",
       "    }\n",
       "\n",
       "    .dataframe tbody tr th {\n",
       "        vertical-align: top;\n",
       "    }\n",
       "\n",
       "    .dataframe thead th {\n",
       "        text-align: right;\n",
       "    }\n",
       "</style>\n",
       "<table border=\"1\" class=\"dataframe\">\n",
       "  <thead>\n",
       "    <tr style=\"text-align: right;\">\n",
       "      <th></th>\n",
       "      <th>rgs</th>\n",
       "      <th>pr</th>\n",
       "      <th>m</th>\n",
       "      <th>js</th>\n",
       "      <th>jjmmaa</th>\n",
       "      <th>hhmm</th>\n",
       "      <th>Vitesse</th>\n",
       "      <th>To</th>\n",
       "      <th>Qualite</th>\n",
       "      <th>Q</th>\n",
       "      <th>A</th>\n",
       "      <th>Code</th>\n",
       "    </tr>\n",
       "  </thead>\n",
       "  <tbody>\n",
       "    <tr>\n",
       "      <th>0</th>\n",
       "      <td>101#M1a</td>\n",
       "      <td>0</td>\n",
       "      <td>430</td>\n",
       "      <td>Ve</td>\n",
       "      <td>2016-01-01</td>\n",
       "      <td>00:00</td>\n",
       "      <td>92.0</td>\n",
       "      <td>1.0</td>\n",
       "      <td>?</td>\n",
       "      <td>421.0</td>\n",
       "      <td>101</td>\n",
       "      <td>M1a</td>\n",
       "    </tr>\n",
       "    <tr>\n",
       "      <th>1</th>\n",
       "      <td>102#M1b</td>\n",
       "      <td>1</td>\n",
       "      <td>9</td>\n",
       "      <td>Ve</td>\n",
       "      <td>2016-01-01</td>\n",
       "      <td>00:00</td>\n",
       "      <td>92.0</td>\n",
       "      <td>3.0</td>\n",
       "      <td></td>\n",
       "      <td>835.0</td>\n",
       "      <td>102</td>\n",
       "      <td>M1b</td>\n",
       "    </tr>\n",
       "    <tr>\n",
       "      <th>2</th>\n",
       "      <td>103#M1c</td>\n",
       "      <td>1</td>\n",
       "      <td>508</td>\n",
       "      <td>Ve</td>\n",
       "      <td>2016-01-01</td>\n",
       "      <td>00:00</td>\n",
       "      <td>0.0</td>\n",
       "      <td>0.0</td>\n",
       "      <td></td>\n",
       "      <td>0.0</td>\n",
       "      <td>103</td>\n",
       "      <td>M1c</td>\n",
       "    </tr>\n",
       "  </tbody>\n",
       "</table>\n",
       "</div>"
      ],
      "text/plain": [
       "       rgs  pr    m  js     jjmmaa   hhmm  Vitesse   To Qualite      Q    A  \\\n",
       "0  101#M1a   0  430  Ve 2016-01-01  00:00     92.0  1.0       ?  421.0  101   \n",
       "1  102#M1b   1    9  Ve 2016-01-01  00:00     92.0  3.0          835.0  102   \n",
       "2  103#M1c   1  508  Ve 2016-01-01  00:00      0.0  0.0            0.0  103   \n",
       "\n",
       "  Code  \n",
       "0  M1a  \n",
       "1  M1b  \n",
       "2  M1c  "
      ]
     },
     "execution_count": 3,
     "metadata": {},
     "output_type": "execute_result"
    }
   ],
   "source": [
    "df.head(3)"
   ]
  },
  {
   "cell_type": "code",
   "execution_count": 4,
   "metadata": {},
   "outputs": [],
   "source": [
    "vacances_hiver = pd.date_range('2016-02-06','2016-02-26')\n",
    "vacances_nouvelan = pd.date_range('2016-01-01','2016-01-04')\n",
    "vacances_printemps = pd.date_range('2016-04-02','2016-04-18')\n",
    "vacances_ptascenssion = pd.date_range('2016-05-04','2016-05-09')\n",
    "vacances_ete = pd.date_range('2016-07-05','2016-09-01')"
   ]
  },
  {
   "cell_type": "code",
   "execution_count": 5,
   "metadata": {},
   "outputs": [],
   "source": [
    "df1 = df.loc[~df['jjmmaa'].isin(vacances_hiver),:]\n",
    "df2 = df1.loc[~df1['jjmmaa'].isin(vacances_nouvelan),:]\n",
    "df3 = df2.loc[~df2['jjmmaa'].isin(vacances_printemps),:]\n",
    "df4 = df3.loc[~df3['jjmmaa'].isin(vacances_ptascenssion),:]\n",
    "df5 = df4.loc[~df4['jjmmaa'].isin(vacances_ete),:]"
   ]
  },
  {
   "cell_type": "code",
   "execution_count": 6,
   "metadata": {},
   "outputs": [],
   "source": [
    "df = df5"
   ]
  },
  {
   "cell_type": "code",
   "execution_count": 7,
   "metadata": {},
   "outputs": [
    {
     "data": {
      "text/html": [
       "<div>\n",
       "<style scoped>\n",
       "    .dataframe tbody tr th:only-of-type {\n",
       "        vertical-align: middle;\n",
       "    }\n",
       "\n",
       "    .dataframe tbody tr th {\n",
       "        vertical-align: top;\n",
       "    }\n",
       "\n",
       "    .dataframe thead th {\n",
       "        text-align: right;\n",
       "    }\n",
       "</style>\n",
       "<table border=\"1\" class=\"dataframe\">\n",
       "  <thead>\n",
       "    <tr style=\"text-align: right;\">\n",
       "      <th></th>\n",
       "      <th>rgs</th>\n",
       "      <th>pr</th>\n",
       "      <th>m</th>\n",
       "      <th>js</th>\n",
       "      <th>jjmmaa</th>\n",
       "      <th>hhmm</th>\n",
       "      <th>Vitesse</th>\n",
       "      <th>To</th>\n",
       "      <th>Qualite</th>\n",
       "      <th>Q</th>\n",
       "      <th>A</th>\n",
       "      <th>Code</th>\n",
       "    </tr>\n",
       "  </thead>\n",
       "  <tbody>\n",
       "    <tr>\n",
       "      <th>5496</th>\n",
       "      <td>101#M1a</td>\n",
       "      <td>0</td>\n",
       "      <td>430</td>\n",
       "      <td>Sa</td>\n",
       "      <td>2016-02-01</td>\n",
       "      <td>00:00</td>\n",
       "      <td>94.0</td>\n",
       "      <td>1.0</td>\n",
       "      <td>?</td>\n",
       "      <td>351.0</td>\n",
       "      <td>101</td>\n",
       "      <td>M1a</td>\n",
       "    </tr>\n",
       "    <tr>\n",
       "      <th>5497</th>\n",
       "      <td>102#M1b</td>\n",
       "      <td>1</td>\n",
       "      <td>9</td>\n",
       "      <td>Sa</td>\n",
       "      <td>2016-02-01</td>\n",
       "      <td>00:00</td>\n",
       "      <td>95.0</td>\n",
       "      <td>3.0</td>\n",
       "      <td></td>\n",
       "      <td>845.0</td>\n",
       "      <td>102</td>\n",
       "      <td>M1b</td>\n",
       "    </tr>\n",
       "    <tr>\n",
       "      <th>5498</th>\n",
       "      <td>103#M1c</td>\n",
       "      <td>1</td>\n",
       "      <td>508</td>\n",
       "      <td>Sa</td>\n",
       "      <td>2016-02-01</td>\n",
       "      <td>00:00</td>\n",
       "      <td>0.0</td>\n",
       "      <td>0.0</td>\n",
       "      <td></td>\n",
       "      <td>0.0</td>\n",
       "      <td>103</td>\n",
       "      <td>M1c</td>\n",
       "    </tr>\n",
       "  </tbody>\n",
       "</table>\n",
       "</div>"
      ],
      "text/plain": [
       "          rgs  pr    m  js     jjmmaa   hhmm  Vitesse   To Qualite      Q  \\\n",
       "5496  101#M1a   0  430  Sa 2016-02-01  00:00     94.0  1.0       ?  351.0   \n",
       "5497  102#M1b   1    9  Sa 2016-02-01  00:00     95.0  3.0          845.0   \n",
       "5498  103#M1c   1  508  Sa 2016-02-01  00:00      0.0  0.0            0.0   \n",
       "\n",
       "        A Code  \n",
       "5496  101  M1a  \n",
       "5497  102  M1b  \n",
       "5498  103  M1c  "
      ]
     },
     "execution_count": 7,
     "metadata": {},
     "output_type": "execute_result"
    }
   ],
   "source": [
    "df.head(3)"
   ]
  },
  {
   "cell_type": "code",
   "execution_count": 8,
   "metadata": {},
   "outputs": [],
   "source": [
    "# Garder que les Mardis et les Jeudis\n",
    "df1 = df[df['js'].str.startswith('Ma')]\n",
    "df2 = df[df['js'].str.startswith('Je')]"
   ]
  },
  {
   "cell_type": "code",
   "execution_count": 9,
   "metadata": {},
   "outputs": [],
   "source": [
    "df = pd.concat([df1, df2])"
   ]
  },
  {
   "cell_type": "code",
   "execution_count": 10,
   "metadata": {},
   "outputs": [],
   "source": [
    "df.index = range(len(df))"
   ]
  },
  {
   "cell_type": "code",
   "execution_count": 11,
   "metadata": {},
   "outputs": [],
   "source": [
    "# Pour enlever les weekends\n",
    "#df = df[~df['js'].astype(str).str.startswith('Sa')]\n",
    "#df = df[~df['js'].astype(str).str.startswith('Di')]"
   ]
  },
  {
   "cell_type": "code",
   "execution_count": 12,
   "metadata": {},
   "outputs": [],
   "source": [
    "# L'heure de pointe du matin de 7.30 a 9h\n",
    "cond1 = df.apply ( lambda row : row[\"hhmm\"] > '07:54', axis = 1 )\n",
    "cond2 = df.apply ( lambda row : row[\"hhmm\"] < '09:06', axis = 1 )\n",
    "# L'intersection des deux condition.\n",
    "df1 = pd.merge(df[cond1], df[cond2], how='inner')"
   ]
  },
  {
   "cell_type": "code",
   "execution_count": 13,
   "metadata": {},
   "outputs": [],
   "source": [
    "# de 9h a 10h\n",
    "cond1 = df.apply ( lambda row : row[\"hhmm\"] > '08:54', axis = 1 )\n",
    "cond2 = df.apply ( lambda row : row[\"hhmm\"] < '10:06', axis = 1 )\n",
    "# L'intersection des deux condition.\n",
    "df2 = pd.merge(df[cond1], df[cond2], how='inner')"
   ]
  },
  {
   "cell_type": "code",
   "execution_count": 14,
   "metadata": {},
   "outputs": [],
   "source": [
    "# L'heure de pointe du matin\n",
    "cond1 = df.apply ( lambda row : row[\"hhmm\"] > '11:54', axis = 1 )\n",
    "cond2 = df.apply ( lambda row : row[\"hhmm\"] < '13:06', axis = 1 )\n",
    "# L'intersection des deux condition.\n",
    "df3 = pd.merge(df[cond1], df[cond2], how='inner')"
   ]
  },
  {
   "cell_type": "code",
   "execution_count": 15,
   "metadata": {},
   "outputs": [],
   "source": [
    "# L'heure de pointe du Soir de 17 a 19\n",
    "cond1 = df.apply ( lambda row : row[\"hhmm\"] > '17:00', axis = 1 )\n",
    "cond2 = df.apply ( lambda row : row[\"hhmm\"] < '19:06', axis = 1 )\n",
    "# L'intersection des deux condition.\n",
    "df4 = pd.merge(df[cond1], df[cond2], how='inner')"
   ]
  },
  {
   "cell_type": "markdown",
   "metadata": {},
   "source": [
    "## La moyenne de la vitesse et le debit des heures de pointes"
   ]
  },
  {
   "cell_type": "code",
   "execution_count": 45,
   "metadata": {},
   "outputs": [],
   "source": [
    "vitesse_8_9 = df1[['Code','Vitesse','Q']].groupby('Code').mean()\n",
    "vitesse_9_10 = df2[['Code','Vitesse','Q']].groupby('Code').mean()\n",
    "vitesse_12_13 = df3[['Code','Vitesse','Q']].groupby('Code').mean()\n",
    "vitesse_17_19 = df4[['Code','Vitesse','Q']].groupby('Code').mean()"
   ]
  },
  {
   "cell_type": "code",
   "execution_count": 46,
   "metadata": {},
   "outputs": [],
   "source": [
    "VQ = pd.concat([vitesse_8_9,vitesse_9_10,vitesse_12_13,vitesse_17_19], axis = 1)\n",
    "VQ.columns = ['V_8_9','Q_8_9','V_9_10','Q_9_10','V_12_13','Q_12_13','V_17_19','Q_17_19']"
   ]
  },
  {
   "cell_type": "code",
   "execution_count": 47,
   "metadata": {},
   "outputs": [],
   "source": [
    "# Reindexer la table\n",
    "VQ['Code'] = VQ.index\n",
    "VQ.index = range(len(VQ))"
   ]
  },
  {
   "cell_type": "code",
   "execution_count": 48,
   "metadata": {},
   "outputs": [],
   "source": [
    "# table isidor\n",
    "df_isidor = pd.read_csv(\"table3.csv\",header=None, sep = ';')\n",
    "# renommer la colonne \n",
    "df_isidor.columns = ['Code']\n",
    "# renommer qlq stations\n",
    "df_isidor['Code'] = df_isidor['Code'].str.replace('MM713.','M7')\n",
    "df_isidor['Code'] = df_isidor['Code'].str.replace('MM613.','M6')\n",
    "df_isidor['Code'] = df_isidor['Code'].str.replace('MM513.','M5')\n",
    "df_isidor['Code'] = df_isidor['Code'].str.replace('MM413.','M4')\n",
    "df_isidor['Code'] = df_isidor['Code'].str.replace('MM113.','M1')"
   ]
  },
  {
   "cell_type": "code",
   "execution_count": 49,
   "metadata": {},
   "outputs": [],
   "source": [
    "#L'union Left\n",
    "result = pd.merge(df_isidor, VQ, how = 'left')"
   ]
  },
  {
   "cell_type": "code",
   "execution_count": 50,
   "metadata": {},
   "outputs": [
    {
     "data": {
      "text/plain": [
       "True"
      ]
     },
     "execution_count": 50,
     "metadata": {},
     "output_type": "execute_result"
    }
   ],
   "source": [
    "len(result) == len(df_isidor)"
   ]
  },
  {
   "cell_type": "markdown",
   "metadata": {},
   "source": [
    "## Les déciles des debits des heures de pointe"
   ]
  },
  {
   "cell_type": "code",
   "execution_count": 16,
   "metadata": {},
   "outputs": [],
   "source": [
    "decile1_8_9 = df1[['Code','Q']].groupby('Code').quantile(0.8)\n",
    "decile1_9_10 = df2[['Code','Q']].groupby('Code').quantile(0.8)\n",
    "decile1_12_13 = df3[['Code','Q']].groupby('Code').quantile(0.8)\n",
    "decile1_17_19 = df4[['Code','Q']].groupby('Code').quantile(0.8)\n",
    "\n",
    "decile2_8_9 = df1[['Code','Q']].groupby('Code').quantile(0.9)\n",
    "decile2_9_10 = df2[['Code','Q']].groupby('Code').quantile(0.9)\n",
    "decile2_12_13 = df3[['Code','Q']].groupby('Code').quantile(0.9)\n",
    "decile2_17_19 = df4[['Code','Q']].groupby('Code').quantile(0.9)"
   ]
  },
  {
   "cell_type": "code",
   "execution_count": 18,
   "metadata": {},
   "outputs": [],
   "source": [
    "Q_deciles89 = pd.concat([decile1_8_9,decile1_9_10,decile1_12_13,decile1_17_19,decile2_8_9,decile2_9_10\n",
    "                        ,decile2_12_13,decile2_17_19], axis = 1)\n",
    "Q_deciles89.columns = ['Q1_8_9','Q1_9_10','Q1_12_13','Q1_17_19'\n",
    "                      ,'Q2_8_9','Q2_9_10','Q2_12_13','Q2_17_19']"
   ]
  },
  {
   "cell_type": "code",
   "execution_count": 19,
   "metadata": {},
   "outputs": [],
   "source": [
    "# Reindexer la table\n",
    "Q_deciles89['Code'] = Q_deciles89.index\n",
    "Q_deciles89.index = range(len(Q_deciles89))"
   ]
  },
  {
   "cell_type": "code",
   "execution_count": 24,
   "metadata": {},
   "outputs": [],
   "source": [
    "#L'union Left\n",
    "result_deciles89 = pd.merge(df_isidor, Q_deciles89, how = 'left')"
   ]
  },
  {
   "cell_type": "code",
   "execution_count": 25,
   "metadata": {},
   "outputs": [],
   "source": [
    "# Exporter la table\n",
    "result_deciles89.to_csv('Q_deciles89.csv', index = False, encoding = 'utf-8')"
   ]
  },
  {
   "cell_type": "markdown",
   "metadata": {},
   "source": [
    "## Ajouter la colonne sens"
   ]
  },
  {
   "cell_type": "code",
   "execution_count": 51,
   "metadata": {},
   "outputs": [],
   "source": [
    "# Creaons d'abords la table S qui contient le sens 1 ou 2. \n",
    "\n",
    "# Creer une liste vide\n",
    "d=[]\n",
    "tab=result.values\n",
    "for i in range(len(result)):\n",
    "    s = tab[i,0][2]\n",
    "    if (s.islower()):\n",
    "        d.append('Sens 2')\n",
    "    elif (s.isupper()):\n",
    "        d.append('Sens 1')\n",
    "    else:\n",
    "        d.append(0)"
   ]
  },
  {
   "cell_type": "code",
   "execution_count": 52,
   "metadata": {},
   "outputs": [],
   "source": [
    "# Colonne Contient les modalites (Sens1, Sens2) qu'on doit ajouter.\n",
    "f = pd.DataFrame({'Sens':d})"
   ]
  },
  {
   "cell_type": "code",
   "execution_count": 53,
   "metadata": {},
   "outputs": [
    {
     "data": {
      "text/html": [
       "<div>\n",
       "<style scoped>\n",
       "    .dataframe tbody tr th:only-of-type {\n",
       "        vertical-align: middle;\n",
       "    }\n",
       "\n",
       "    .dataframe tbody tr th {\n",
       "        vertical-align: top;\n",
       "    }\n",
       "\n",
       "    .dataframe thead th {\n",
       "        text-align: right;\n",
       "    }\n",
       "</style>\n",
       "<table border=\"1\" class=\"dataframe\">\n",
       "  <thead>\n",
       "    <tr style=\"text-align: right;\">\n",
       "      <th></th>\n",
       "      <th>Sens</th>\n",
       "    </tr>\n",
       "  </thead>\n",
       "  <tbody>\n",
       "    <tr>\n",
       "      <th>0</th>\n",
       "      <td>Sens 1</td>\n",
       "    </tr>\n",
       "    <tr>\n",
       "      <th>1</th>\n",
       "      <td>Sens 1</td>\n",
       "    </tr>\n",
       "    <tr>\n",
       "      <th>2</th>\n",
       "      <td>Sens 1</td>\n",
       "    </tr>\n",
       "    <tr>\n",
       "      <th>3</th>\n",
       "      <td>Sens 1</td>\n",
       "    </tr>\n",
       "    <tr>\n",
       "      <th>4</th>\n",
       "      <td>Sens 1</td>\n",
       "    </tr>\n",
       "  </tbody>\n",
       "</table>\n",
       "</div>"
      ],
      "text/plain": [
       "     Sens\n",
       "0  Sens 1\n",
       "1  Sens 1\n",
       "2  Sens 1\n",
       "3  Sens 1\n",
       "4  Sens 1"
      ]
     },
     "execution_count": 53,
     "metadata": {},
     "output_type": "execute_result"
    }
   ],
   "source": [
    "f.head()"
   ]
  },
  {
   "cell_type": "code",
   "execution_count": 54,
   "metadata": {},
   "outputs": [
    {
     "data": {
      "text/html": [
       "<div>\n",
       "<style scoped>\n",
       "    .dataframe tbody tr th:only-of-type {\n",
       "        vertical-align: middle;\n",
       "    }\n",
       "\n",
       "    .dataframe tbody tr th {\n",
       "        vertical-align: top;\n",
       "    }\n",
       "\n",
       "    .dataframe thead th {\n",
       "        text-align: right;\n",
       "    }\n",
       "</style>\n",
       "<table border=\"1\" class=\"dataframe\">\n",
       "  <thead>\n",
       "    <tr style=\"text-align: right;\">\n",
       "      <th></th>\n",
       "      <th>Code</th>\n",
       "      <th>V_8_9</th>\n",
       "      <th>Q_8_9</th>\n",
       "      <th>V_9_10</th>\n",
       "      <th>Q_9_10</th>\n",
       "      <th>V_12_13</th>\n",
       "      <th>Q_12_13</th>\n",
       "      <th>V_17_19</th>\n",
       "      <th>Q_17_19</th>\n",
       "    </tr>\n",
       "  </thead>\n",
       "  <tbody>\n",
       "    <tr>\n",
       "      <th>0</th>\n",
       "      <td>M7I</td>\n",
       "      <td>78.905405</td>\n",
       "      <td>4384.716216</td>\n",
       "      <td>81.280000</td>\n",
       "      <td>3957.866667</td>\n",
       "      <td>87.547945</td>\n",
       "      <td>3588.287671</td>\n",
       "      <td>83.207792</td>\n",
       "      <td>4603.844156</td>\n",
       "    </tr>\n",
       "    <tr>\n",
       "      <th>1</th>\n",
       "      <td>M7J</td>\n",
       "      <td>80.864865</td>\n",
       "      <td>4191.297297</td>\n",
       "      <td>82.080000</td>\n",
       "      <td>3658.986667</td>\n",
       "      <td>89.219178</td>\n",
       "      <td>3168.205479</td>\n",
       "      <td>85.038961</td>\n",
       "      <td>4471.610390</td>\n",
       "    </tr>\n",
       "    <tr>\n",
       "      <th>2</th>\n",
       "      <td>M7N</td>\n",
       "      <td>40.810811</td>\n",
       "      <td>764.067568</td>\n",
       "      <td>42.386667</td>\n",
       "      <td>739.600000</td>\n",
       "      <td>42.684932</td>\n",
       "      <td>700.328767</td>\n",
       "      <td>34.584416</td>\n",
       "      <td>866.649351</td>\n",
       "    </tr>\n",
       "    <tr>\n",
       "      <th>3</th>\n",
       "      <td>M7O</td>\n",
       "      <td>94.067568</td>\n",
       "      <td>4291.256757</td>\n",
       "      <td>95.306667</td>\n",
       "      <td>3965.040000</td>\n",
       "      <td>100.890411</td>\n",
       "      <td>3657.191781</td>\n",
       "      <td>86.779221</td>\n",
       "      <td>4694.285714</td>\n",
       "    </tr>\n",
       "    <tr>\n",
       "      <th>4</th>\n",
       "      <td>M7P</td>\n",
       "      <td>37.959459</td>\n",
       "      <td>1581.648649</td>\n",
       "      <td>38.346667</td>\n",
       "      <td>1400.480000</td>\n",
       "      <td>34.958904</td>\n",
       "      <td>1058.424658</td>\n",
       "      <td>30.636364</td>\n",
       "      <td>1674.246753</td>\n",
       "    </tr>\n",
       "  </tbody>\n",
       "</table>\n",
       "</div>"
      ],
      "text/plain": [
       "  Code      V_8_9        Q_8_9     V_9_10       Q_9_10     V_12_13  \\\n",
       "0  M7I  78.905405  4384.716216  81.280000  3957.866667   87.547945   \n",
       "1  M7J  80.864865  4191.297297  82.080000  3658.986667   89.219178   \n",
       "2  M7N  40.810811   764.067568  42.386667   739.600000   42.684932   \n",
       "3  M7O  94.067568  4291.256757  95.306667  3965.040000  100.890411   \n",
       "4  M7P  37.959459  1581.648649  38.346667  1400.480000   34.958904   \n",
       "\n",
       "       Q_12_13    V_17_19      Q_17_19  \n",
       "0  3588.287671  83.207792  4603.844156  \n",
       "1  3168.205479  85.038961  4471.610390  \n",
       "2   700.328767  34.584416   866.649351  \n",
       "3  3657.191781  86.779221  4694.285714  \n",
       "4  1058.424658  30.636364  1674.246753  "
      ]
     },
     "execution_count": 54,
     "metadata": {},
     "output_type": "execute_result"
    }
   ],
   "source": [
    "result.head()"
   ]
  },
  {
   "cell_type": "code",
   "execution_count": 55,
   "metadata": {},
   "outputs": [
    {
     "data": {
      "text/plain": [
       "True"
      ]
     },
     "execution_count": 55,
     "metadata": {},
     "output_type": "execute_result"
    }
   ],
   "source": [
    "# test\n",
    "len(f) == len(result)"
   ]
  },
  {
   "cell_type": "code",
   "execution_count": 56,
   "metadata": {},
   "outputs": [
    {
     "data": {
      "text/html": [
       "<div>\n",
       "<style scoped>\n",
       "    .dataframe tbody tr th:only-of-type {\n",
       "        vertical-align: middle;\n",
       "    }\n",
       "\n",
       "    .dataframe tbody tr th {\n",
       "        vertical-align: top;\n",
       "    }\n",
       "\n",
       "    .dataframe thead th {\n",
       "        text-align: right;\n",
       "    }\n",
       "</style>\n",
       "<table border=\"1\" class=\"dataframe\">\n",
       "  <thead>\n",
       "    <tr style=\"text-align: right;\">\n",
       "      <th></th>\n",
       "      <th>Code</th>\n",
       "      <th>V_8_9</th>\n",
       "      <th>Q_8_9</th>\n",
       "      <th>V_9_10</th>\n",
       "      <th>Q_9_10</th>\n",
       "      <th>V_12_13</th>\n",
       "      <th>Q_12_13</th>\n",
       "      <th>V_17_19</th>\n",
       "      <th>Q_17_19</th>\n",
       "      <th>Sens</th>\n",
       "    </tr>\n",
       "  </thead>\n",
       "  <tbody>\n",
       "    <tr>\n",
       "      <th>0</th>\n",
       "      <td>M7I</td>\n",
       "      <td>78.905405</td>\n",
       "      <td>4384.716216</td>\n",
       "      <td>81.280000</td>\n",
       "      <td>3957.866667</td>\n",
       "      <td>87.547945</td>\n",
       "      <td>3588.287671</td>\n",
       "      <td>83.207792</td>\n",
       "      <td>4603.844156</td>\n",
       "      <td>Sens 1</td>\n",
       "    </tr>\n",
       "    <tr>\n",
       "      <th>1</th>\n",
       "      <td>M7J</td>\n",
       "      <td>80.864865</td>\n",
       "      <td>4191.297297</td>\n",
       "      <td>82.080000</td>\n",
       "      <td>3658.986667</td>\n",
       "      <td>89.219178</td>\n",
       "      <td>3168.205479</td>\n",
       "      <td>85.038961</td>\n",
       "      <td>4471.610390</td>\n",
       "      <td>Sens 1</td>\n",
       "    </tr>\n",
       "    <tr>\n",
       "      <th>2</th>\n",
       "      <td>M7N</td>\n",
       "      <td>40.810811</td>\n",
       "      <td>764.067568</td>\n",
       "      <td>42.386667</td>\n",
       "      <td>739.600000</td>\n",
       "      <td>42.684932</td>\n",
       "      <td>700.328767</td>\n",
       "      <td>34.584416</td>\n",
       "      <td>866.649351</td>\n",
       "      <td>Sens 1</td>\n",
       "    </tr>\n",
       "    <tr>\n",
       "      <th>3</th>\n",
       "      <td>M7O</td>\n",
       "      <td>94.067568</td>\n",
       "      <td>4291.256757</td>\n",
       "      <td>95.306667</td>\n",
       "      <td>3965.040000</td>\n",
       "      <td>100.890411</td>\n",
       "      <td>3657.191781</td>\n",
       "      <td>86.779221</td>\n",
       "      <td>4694.285714</td>\n",
       "      <td>Sens 1</td>\n",
       "    </tr>\n",
       "    <tr>\n",
       "      <th>4</th>\n",
       "      <td>M7P</td>\n",
       "      <td>37.959459</td>\n",
       "      <td>1581.648649</td>\n",
       "      <td>38.346667</td>\n",
       "      <td>1400.480000</td>\n",
       "      <td>34.958904</td>\n",
       "      <td>1058.424658</td>\n",
       "      <td>30.636364</td>\n",
       "      <td>1674.246753</td>\n",
       "      <td>Sens 1</td>\n",
       "    </tr>\n",
       "  </tbody>\n",
       "</table>\n",
       "</div>"
      ],
      "text/plain": [
       "  Code      V_8_9        Q_8_9     V_9_10       Q_9_10     V_12_13  \\\n",
       "0  M7I  78.905405  4384.716216  81.280000  3957.866667   87.547945   \n",
       "1  M7J  80.864865  4191.297297  82.080000  3658.986667   89.219178   \n",
       "2  M7N  40.810811   764.067568  42.386667   739.600000   42.684932   \n",
       "3  M7O  94.067568  4291.256757  95.306667  3965.040000  100.890411   \n",
       "4  M7P  37.959459  1581.648649  38.346667  1400.480000   34.958904   \n",
       "\n",
       "       Q_12_13    V_17_19      Q_17_19    Sens  \n",
       "0  3588.287671  83.207792  4603.844156  Sens 1  \n",
       "1  3168.205479  85.038961  4471.610390  Sens 1  \n",
       "2   700.328767  34.584416   866.649351  Sens 1  \n",
       "3  3657.191781  86.779221  4694.285714  Sens 1  \n",
       "4  1058.424658  30.636364  1674.246753  Sens 1  "
      ]
     },
     "execution_count": 56,
     "metadata": {},
     "output_type": "execute_result"
    }
   ],
   "source": [
    "rslt = pd.concat([result, f], axis=1)\n",
    "rslt.head()"
   ]
  },
  {
   "cell_type": "code",
   "execution_count": 57,
   "metadata": {},
   "outputs": [],
   "source": [
    "# Exporter la table Debit vitesse mardi jeudi\n",
    "rslt.to_csv('VQ_MJ.csv', index = False, encoding = 'utf-8')"
   ]
  },
  {
   "cell_type": "markdown",
   "metadata": {},
   "source": [
    "# Les déciles des debits des heures de pointe par sens\n"
   ]
  },
  {
   "cell_type": "code",
   "execution_count": 26,
   "metadata": {},
   "outputs": [],
   "source": [
    "decile1_8_9 = df1[['Code','Q']].groupby('Code').quantile(0.8)\n",
    "decile1_9_10 = df2[['Code','Q']].groupby('Code').quantile(0.8)\n",
    "decile1_12_13 = df3[['Code','Q']].groupby('Code').quantile(0.8)\n",
    "decile1_17_19 = df4[['Code','Q']].groupby('Code').quantile(0.8)\n",
    "\n",
    "decile2_8_9 = df1[['Code','Q']].groupby('Code').quantile(0.9)\n",
    "decile2_9_10 = df2[['Code','Q']].groupby('Code').quantile(0.9)\n",
    "decile2_12_13 = df3[['Code','Q']].groupby('Code').quantile(0.9)\n",
    "decile2_17_19 = df4[['Code','Q']].groupby('Code').quantile(0.9)"
   ]
  },
  {
   "cell_type": "code",
   "execution_count": 27,
   "metadata": {},
   "outputs": [],
   "source": [
    "Q_deciles89 = pd.concat([decile1_8_9,decile1_9_10,decile1_12_13,decile1_17_19,decile2_8_9,decile2_9_10\n",
    "                        ,decile2_12_13,decile2_17_19], axis = 1)\n",
    "Q_deciles89.columns = ['Q1_8_9','Q1_9_10','Q1_12_13','Q1_17_19'\n",
    "                      ,'Q2_8_9','Q2_9_10','Q2_12_13','Q2_17_19']"
   ]
  },
  {
   "cell_type": "code",
   "execution_count": 28,
   "metadata": {},
   "outputs": [],
   "source": [
    "# Reindexer la table\n",
    "Q_deciles89['Code'] = Q_deciles89.index\n",
    "Q_deciles89.index = range(len(Q_deciles89))"
   ]
  },
  {
   "cell_type": "code",
   "execution_count": 29,
   "metadata": {},
   "outputs": [],
   "source": [
    "#L'union Left\n",
    "result_deciles89 = pd.merge(df_isidor, Q_deciles89, how = 'left')"
   ]
  },
  {
   "cell_type": "code",
   "execution_count": 32,
   "metadata": {},
   "outputs": [],
   "source": [
    "# Creaons d'abords la table S qui contient le sens 1 ou 2. \n",
    "\n",
    "# Creer une liste vide\n",
    "d=[]\n",
    "tab=result_deciles89.values\n",
    "for i in range(len(result_deciles89)):\n",
    "    s = tab[i,0][2]\n",
    "    if (s.islower()):\n",
    "        d.append('Sens 2')\n",
    "    elif (s.isupper()):\n",
    "        d.append('Sens 1')\n",
    "    else:\n",
    "        d.append(0)"
   ]
  },
  {
   "cell_type": "code",
   "execution_count": 33,
   "metadata": {},
   "outputs": [],
   "source": [
    "# Colonne Contient les modalites (Sens1, Sens2) qu'on doit ajouter.\n",
    "f = pd.DataFrame({'Sens':d})"
   ]
  },
  {
   "cell_type": "code",
   "execution_count": 34,
   "metadata": {},
   "outputs": [
    {
     "data": {
      "text/html": [
       "<div>\n",
       "<style scoped>\n",
       "    .dataframe tbody tr th:only-of-type {\n",
       "        vertical-align: middle;\n",
       "    }\n",
       "\n",
       "    .dataframe tbody tr th {\n",
       "        vertical-align: top;\n",
       "    }\n",
       "\n",
       "    .dataframe thead th {\n",
       "        text-align: right;\n",
       "    }\n",
       "</style>\n",
       "<table border=\"1\" class=\"dataframe\">\n",
       "  <thead>\n",
       "    <tr style=\"text-align: right;\">\n",
       "      <th></th>\n",
       "      <th>Code</th>\n",
       "      <th>Q1_8_9</th>\n",
       "      <th>Q1_9_10</th>\n",
       "      <th>Q1_12_13</th>\n",
       "      <th>Q1_17_19</th>\n",
       "      <th>Q2_8_9</th>\n",
       "      <th>Q2_9_10</th>\n",
       "      <th>Q2_12_13</th>\n",
       "      <th>Q2_17_19</th>\n",
       "      <th>Sens</th>\n",
       "    </tr>\n",
       "  </thead>\n",
       "  <tbody>\n",
       "    <tr>\n",
       "      <th>0</th>\n",
       "      <td>M7I</td>\n",
       "      <td>5058.4</td>\n",
       "      <td>4804.6</td>\n",
       "      <td>3692.8</td>\n",
       "      <td>5230.8</td>\n",
       "      <td>5201.0</td>\n",
       "      <td>4915.4</td>\n",
       "      <td>3803.0</td>\n",
       "      <td>5353.0</td>\n",
       "      <td>Sens 1</td>\n",
       "    </tr>\n",
       "    <tr>\n",
       "      <th>1</th>\n",
       "      <td>M7J</td>\n",
       "      <td>5263.4</td>\n",
       "      <td>4975.8</td>\n",
       "      <td>3814.4</td>\n",
       "      <td>5504.2</td>\n",
       "      <td>5461.8</td>\n",
       "      <td>5135.8</td>\n",
       "      <td>3911.0</td>\n",
       "      <td>5583.0</td>\n",
       "      <td>Sens 1</td>\n",
       "    </tr>\n",
       "    <tr>\n",
       "      <th>2</th>\n",
       "      <td>M7N</td>\n",
       "      <td>1959.2</td>\n",
       "      <td>1806.6</td>\n",
       "      <td>1681.8</td>\n",
       "      <td>1997.8</td>\n",
       "      <td>2123.7</td>\n",
       "      <td>2038.0</td>\n",
       "      <td>1867.8</td>\n",
       "      <td>2367.6</td>\n",
       "      <td>Sens 1</td>\n",
       "    </tr>\n",
       "    <tr>\n",
       "      <th>3</th>\n",
       "      <td>M7O</td>\n",
       "      <td>4683.2</td>\n",
       "      <td>4527.6</td>\n",
       "      <td>3684.8</td>\n",
       "      <td>5348.4</td>\n",
       "      <td>4755.5</td>\n",
       "      <td>4634.2</td>\n",
       "      <td>3738.4</td>\n",
       "      <td>5491.6</td>\n",
       "      <td>Sens 1</td>\n",
       "    </tr>\n",
       "    <tr>\n",
       "      <th>4</th>\n",
       "      <td>M7P</td>\n",
       "      <td>4459.4</td>\n",
       "      <td>3725.6</td>\n",
       "      <td>3398.6</td>\n",
       "      <td>4898.4</td>\n",
       "      <td>4607.8</td>\n",
       "      <td>4402.6</td>\n",
       "      <td>3623.2</td>\n",
       "      <td>5217.8</td>\n",
       "      <td>Sens 1</td>\n",
       "    </tr>\n",
       "  </tbody>\n",
       "</table>\n",
       "</div>"
      ],
      "text/plain": [
       "  Code  Q1_8_9  Q1_9_10  Q1_12_13  Q1_17_19  Q2_8_9  Q2_9_10  Q2_12_13  \\\n",
       "0  M7I  5058.4   4804.6    3692.8    5230.8  5201.0   4915.4    3803.0   \n",
       "1  M7J  5263.4   4975.8    3814.4    5504.2  5461.8   5135.8    3911.0   \n",
       "2  M7N  1959.2   1806.6    1681.8    1997.8  2123.7   2038.0    1867.8   \n",
       "3  M7O  4683.2   4527.6    3684.8    5348.4  4755.5   4634.2    3738.4   \n",
       "4  M7P  4459.4   3725.6    3398.6    4898.4  4607.8   4402.6    3623.2   \n",
       "\n",
       "   Q2_17_19    Sens  \n",
       "0    5353.0  Sens 1  \n",
       "1    5583.0  Sens 1  \n",
       "2    2367.6  Sens 1  \n",
       "3    5491.6  Sens 1  \n",
       "4    5217.8  Sens 1  "
      ]
     },
     "execution_count": 34,
     "metadata": {},
     "output_type": "execute_result"
    }
   ],
   "source": [
    "rslt2 = pd.concat([result_deciles89, f], axis=1)\n",
    "rslt2.head()"
   ]
  },
  {
   "cell_type": "code",
   "execution_count": 72,
   "metadata": {},
   "outputs": [],
   "source": [
    "# Exporter la table\n",
    "rslt2.to_csv('Q_deciles.csv', index = False, encoding = 'utf-8')"
   ]
  },
  {
   "cell_type": "markdown",
   "metadata": {},
   "source": [
    "# Les déciles des vitesses des heures de pointe par sens\n"
   ]
  },
  {
   "cell_type": "code",
   "execution_count": 35,
   "metadata": {},
   "outputs": [],
   "source": [
    "decile1_8_9 = df1[['Code','Vitesse']].groupby('Code').quantile(0.1)\n",
    "decile1_9_10 = df2[['Code','Vitesse']].groupby('Code').quantile(0.1)\n",
    "decile1_12_13 = df3[['Code','Vitesse']].groupby('Code').quantile(0.1)\n",
    "decile1_17_19 = df4[['Code','Vitesse']].groupby('Code').quantile(0.1)\n",
    "\n",
    "decile2_8_9 = df1[['Code','Vitesse']].groupby('Code').quantile(0.2)\n",
    "decile2_9_10 = df2[['Code','Vitesse']].groupby('Code').quantile(0.2)\n",
    "decile2_12_13 = df3[['Code','Vitesse']].groupby('Code').quantile(0.2)\n",
    "decile2_17_19 = df4[['Code','Vitesse']].groupby('Code').quantile(0.2)"
   ]
  },
  {
   "cell_type": "code",
   "execution_count": 38,
   "metadata": {},
   "outputs": [],
   "source": [
    "V_deciles12 = pd.concat([decile1_8_9,decile1_9_10,decile1_12_13,decile1_17_19,decile2_8_9,decile2_9_10\n",
    "                        ,decile2_12_13,decile2_17_19], axis = 1)\n",
    "V_deciles12.columns = ['V1_8_9','V1_9_10','V1_12_13','V1_17_19'\n",
    "                      ,'V2_8_9','V2_9_10','V2_12_13','V2_17_19']"
   ]
  },
  {
   "cell_type": "code",
   "execution_count": 39,
   "metadata": {},
   "outputs": [],
   "source": [
    "# Reindexer la table\n",
    "V_deciles12['Code'] = V_deciles12.index\n",
    "V_deciles12.index = range(len(V_deciles12))"
   ]
  },
  {
   "cell_type": "code",
   "execution_count": 40,
   "metadata": {},
   "outputs": [],
   "source": [
    "#L'union Left\n",
    "result_deciles12 = pd.merge(df_isidor, V_deciles12, how = 'left')"
   ]
  },
  {
   "cell_type": "code",
   "execution_count": 41,
   "metadata": {},
   "outputs": [],
   "source": [
    "# Creaons d'abords la table S qui contient le sens 1 ou 2. \n",
    "\n",
    "# Creer une liste vide\n",
    "d=[]\n",
    "tab=result_deciles12.values\n",
    "for i in range(len(result_deciles12)):\n",
    "    s = tab[i,0][2]\n",
    "    if (s.islower()):\n",
    "        d.append('Sens 2')\n",
    "    elif (s.isupper()):\n",
    "        d.append('Sens 1')\n",
    "    else:\n",
    "        d.append(0)"
   ]
  },
  {
   "cell_type": "code",
   "execution_count": 42,
   "metadata": {},
   "outputs": [],
   "source": [
    "# Colonne Contient les modalites (Sens1, Sens2) qu'on doit ajouter.\n",
    "f = pd.DataFrame({'Sens':d})"
   ]
  },
  {
   "cell_type": "code",
   "execution_count": 43,
   "metadata": {},
   "outputs": [
    {
     "data": {
      "text/html": [
       "<div>\n",
       "<style scoped>\n",
       "    .dataframe tbody tr th:only-of-type {\n",
       "        vertical-align: middle;\n",
       "    }\n",
       "\n",
       "    .dataframe tbody tr th {\n",
       "        vertical-align: top;\n",
       "    }\n",
       "\n",
       "    .dataframe thead th {\n",
       "        text-align: right;\n",
       "    }\n",
       "</style>\n",
       "<table border=\"1\" class=\"dataframe\">\n",
       "  <thead>\n",
       "    <tr style=\"text-align: right;\">\n",
       "      <th></th>\n",
       "      <th>Code</th>\n",
       "      <th>V1_8_9</th>\n",
       "      <th>V1_9_10</th>\n",
       "      <th>V1_12_13</th>\n",
       "      <th>V1_17_19</th>\n",
       "      <th>V2_8_9</th>\n",
       "      <th>V2_9_10</th>\n",
       "      <th>V2_12_13</th>\n",
       "      <th>V2_17_19</th>\n",
       "      <th>Sens</th>\n",
       "    </tr>\n",
       "  </thead>\n",
       "  <tbody>\n",
       "    <tr>\n",
       "      <th>0</th>\n",
       "      <td>M7I</td>\n",
       "      <td>67.8</td>\n",
       "      <td>68.4</td>\n",
       "      <td>87.0</td>\n",
       "      <td>77.6</td>\n",
       "      <td>75.6</td>\n",
       "      <td>80.0</td>\n",
       "      <td>88.0</td>\n",
       "      <td>82.0</td>\n",
       "      <td>Sens 1</td>\n",
       "    </tr>\n",
       "    <tr>\n",
       "      <th>1</th>\n",
       "      <td>M7J</td>\n",
       "      <td>63.3</td>\n",
       "      <td>60.6</td>\n",
       "      <td>90.2</td>\n",
       "      <td>80.2</td>\n",
       "      <td>80.0</td>\n",
       "      <td>85.8</td>\n",
       "      <td>93.0</td>\n",
       "      <td>87.0</td>\n",
       "      <td>Sens 1</td>\n",
       "    </tr>\n",
       "    <tr>\n",
       "      <th>2</th>\n",
       "      <td>M7N</td>\n",
       "      <td>0.0</td>\n",
       "      <td>0.0</td>\n",
       "      <td>0.0</td>\n",
       "      <td>0.0</td>\n",
       "      <td>0.0</td>\n",
       "      <td>0.0</td>\n",
       "      <td>0.0</td>\n",
       "      <td>0.0</td>\n",
       "      <td>Sens 1</td>\n",
       "    </tr>\n",
       "    <tr>\n",
       "      <th>3</th>\n",
       "      <td>M7O</td>\n",
       "      <td>85.3</td>\n",
       "      <td>82.8</td>\n",
       "      <td>102.0</td>\n",
       "      <td>51.8</td>\n",
       "      <td>96.0</td>\n",
       "      <td>98.0</td>\n",
       "      <td>103.0</td>\n",
       "      <td>73.6</td>\n",
       "      <td>Sens 1</td>\n",
       "    </tr>\n",
       "    <tr>\n",
       "      <th>4</th>\n",
       "      <td>M7P</td>\n",
       "      <td>0.0</td>\n",
       "      <td>0.0</td>\n",
       "      <td>0.0</td>\n",
       "      <td>0.0</td>\n",
       "      <td>0.0</td>\n",
       "      <td>0.0</td>\n",
       "      <td>0.0</td>\n",
       "      <td>0.0</td>\n",
       "      <td>Sens 1</td>\n",
       "    </tr>\n",
       "  </tbody>\n",
       "</table>\n",
       "</div>"
      ],
      "text/plain": [
       "  Code  V1_8_9  V1_9_10  V1_12_13  V1_17_19  V2_8_9  V2_9_10  V2_12_13  \\\n",
       "0  M7I    67.8     68.4      87.0      77.6    75.6     80.0      88.0   \n",
       "1  M7J    63.3     60.6      90.2      80.2    80.0     85.8      93.0   \n",
       "2  M7N     0.0      0.0       0.0       0.0     0.0      0.0       0.0   \n",
       "3  M7O    85.3     82.8     102.0      51.8    96.0     98.0     103.0   \n",
       "4  M7P     0.0      0.0       0.0       0.0     0.0      0.0       0.0   \n",
       "\n",
       "   V2_17_19    Sens  \n",
       "0      82.0  Sens 1  \n",
       "1      87.0  Sens 1  \n",
       "2       0.0  Sens 1  \n",
       "3      73.6  Sens 1  \n",
       "4       0.0  Sens 1  "
      ]
     },
     "execution_count": 43,
     "metadata": {},
     "output_type": "execute_result"
    }
   ],
   "source": [
    "rslt3 = pd.concat([result_deciles12, f], axis=1)\n",
    "rslt3.head()"
   ]
  },
  {
   "cell_type": "code",
   "execution_count": 44,
   "metadata": {},
   "outputs": [],
   "source": [
    "# Exporter la table\n",
    "rslt3.to_csv('V_deciles.csv', index = False, encoding = 'utf-8')"
   ]
  },
  {
   "cell_type": "code",
   "execution_count": null,
   "metadata": {},
   "outputs": [],
   "source": []
  }
 ],
 "metadata": {
  "kernelspec": {
   "display_name": "Python 3",
   "language": "python",
   "name": "python3"
  },
  "language_info": {
   "codemirror_mode": {
    "name": "ipython",
    "version": 3
   },
   "file_extension": ".py",
   "mimetype": "text/x-python",
   "name": "python",
   "nbconvert_exporter": "python",
   "pygments_lexer": "ipython3",
   "version": "3.7.1"
  }
 },
 "nbformat": 4,
 "nbformat_minor": 2
}
