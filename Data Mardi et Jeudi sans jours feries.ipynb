{
 "cells": [
  {
   "cell_type": "code",
   "execution_count": 1,
   "metadata": {},
   "outputs": [],
   "source": [
    "import os\n",
    "import pandas as pd "
   ]
  },
  {
   "cell_type": "code",
   "execution_count": 3,
   "metadata": {},
   "outputs": [],
   "source": [
    "df = pd.read_csv('t16.csv', sep = ',')\n",
    "df['jjmmaa'] = pd.to_datetime(df['jjmmaa'])  "
   ]
  },
  {
   "cell_type": "code",
   "execution_count": 4,
   "metadata": {},
   "outputs": [
    {
     "data": {
      "text/html": [
       "<div>\n",
       "<style scoped>\n",
       "    .dataframe tbody tr th:only-of-type {\n",
       "        vertical-align: middle;\n",
       "    }\n",
       "\n",
       "    .dataframe tbody tr th {\n",
       "        vertical-align: top;\n",
       "    }\n",
       "\n",
       "    .dataframe thead th {\n",
       "        text-align: right;\n",
       "    }\n",
       "</style>\n",
       "<table border=\"1\" class=\"dataframe\">\n",
       "  <thead>\n",
       "    <tr style=\"text-align: right;\">\n",
       "      <th></th>\n",
       "      <th>rgs</th>\n",
       "      <th>pr</th>\n",
       "      <th>m</th>\n",
       "      <th>js</th>\n",
       "      <th>jjmmaa</th>\n",
       "      <th>hhmm</th>\n",
       "      <th>Vitesse</th>\n",
       "      <th>To</th>\n",
       "      <th>Qualite</th>\n",
       "      <th>Q</th>\n",
       "      <th>A</th>\n",
       "      <th>Code</th>\n",
       "    </tr>\n",
       "  </thead>\n",
       "  <tbody>\n",
       "    <tr>\n",
       "      <th>0</th>\n",
       "      <td>101#M1a</td>\n",
       "      <td>0</td>\n",
       "      <td>430</td>\n",
       "      <td>Ve</td>\n",
       "      <td>2016-01-01</td>\n",
       "      <td>00:00</td>\n",
       "      <td>92.0</td>\n",
       "      <td>1.0</td>\n",
       "      <td>?</td>\n",
       "      <td>421.0</td>\n",
       "      <td>101</td>\n",
       "      <td>M1a</td>\n",
       "    </tr>\n",
       "    <tr>\n",
       "      <th>1</th>\n",
       "      <td>102#M1b</td>\n",
       "      <td>1</td>\n",
       "      <td>9</td>\n",
       "      <td>Ve</td>\n",
       "      <td>2016-01-01</td>\n",
       "      <td>00:00</td>\n",
       "      <td>92.0</td>\n",
       "      <td>3.0</td>\n",
       "      <td></td>\n",
       "      <td>835.0</td>\n",
       "      <td>102</td>\n",
       "      <td>M1b</td>\n",
       "    </tr>\n",
       "    <tr>\n",
       "      <th>2</th>\n",
       "      <td>103#M1c</td>\n",
       "      <td>1</td>\n",
       "      <td>508</td>\n",
       "      <td>Ve</td>\n",
       "      <td>2016-01-01</td>\n",
       "      <td>00:00</td>\n",
       "      <td>0.0</td>\n",
       "      <td>0.0</td>\n",
       "      <td></td>\n",
       "      <td>0.0</td>\n",
       "      <td>103</td>\n",
       "      <td>M1c</td>\n",
       "    </tr>\n",
       "  </tbody>\n",
       "</table>\n",
       "</div>"
      ],
      "text/plain": [
       "       rgs  pr    m  js     jjmmaa   hhmm  Vitesse   To Qualite      Q    A  \\\n",
       "0  101#M1a   0  430  Ve 2016-01-01  00:00     92.0  1.0       ?  421.0  101   \n",
       "1  102#M1b   1    9  Ve 2016-01-01  00:00     92.0  3.0          835.0  102   \n",
       "2  103#M1c   1  508  Ve 2016-01-01  00:00      0.0  0.0            0.0  103   \n",
       "\n",
       "  Code  \n",
       "0  M1a  \n",
       "1  M1b  \n",
       "2  M1c  "
      ]
     },
     "execution_count": 4,
     "metadata": {},
     "output_type": "execute_result"
    }
   ],
   "source": [
    "df.head(3)"
   ]
  },
  {
   "cell_type": "code",
   "execution_count": 5,
   "metadata": {},
   "outputs": [],
   "source": [
    "vacances_hiver = pd.date_range('2016-02-06','2016-02-26')\n",
    "vacances_nouvelan = pd.date_range('2016-01-01','2016-01-04')\n",
    "vacances_printemps = pd.date_range('2016-04-02','2016-04-18')\n",
    "vacances_ptascenssion = pd.date_range('2016-05-04','2016-05-09')\n",
    "vacances_ete = pd.date_range('2016-07-05','2016-09-01')"
   ]
  },
  {
   "cell_type": "code",
   "execution_count": 6,
   "metadata": {},
   "outputs": [],
   "source": [
    "df1 = df.loc[~df['jjmmaa'].isin(vacances_hiver),:]\n",
    "df2 = df1.loc[~df1['jjmmaa'].isin(vacances_nouvelan),:]\n",
    "df3 = df2.loc[~df2['jjmmaa'].isin(vacances_printemps),:]\n",
    "df4 = df3.loc[~df3['jjmmaa'].isin(vacances_ptascenssion),:]\n",
    "df5 = df4.loc[~df4['jjmmaa'].isin(vacances_ete),:]"
   ]
  },
  {
   "cell_type": "code",
   "execution_count": 7,
   "metadata": {},
   "outputs": [],
   "source": [
    "df = df5"
   ]
  },
  {
   "cell_type": "code",
   "execution_count": 8,
   "metadata": {},
   "outputs": [
    {
     "data": {
      "text/html": [
       "<div>\n",
       "<style scoped>\n",
       "    .dataframe tbody tr th:only-of-type {\n",
       "        vertical-align: middle;\n",
       "    }\n",
       "\n",
       "    .dataframe tbody tr th {\n",
       "        vertical-align: top;\n",
       "    }\n",
       "\n",
       "    .dataframe thead th {\n",
       "        text-align: right;\n",
       "    }\n",
       "</style>\n",
       "<table border=\"1\" class=\"dataframe\">\n",
       "  <thead>\n",
       "    <tr style=\"text-align: right;\">\n",
       "      <th></th>\n",
       "      <th>rgs</th>\n",
       "      <th>pr</th>\n",
       "      <th>m</th>\n",
       "      <th>js</th>\n",
       "      <th>jjmmaa</th>\n",
       "      <th>hhmm</th>\n",
       "      <th>Vitesse</th>\n",
       "      <th>To</th>\n",
       "      <th>Qualite</th>\n",
       "      <th>Q</th>\n",
       "      <th>A</th>\n",
       "      <th>Code</th>\n",
       "    </tr>\n",
       "  </thead>\n",
       "  <tbody>\n",
       "    <tr>\n",
       "      <th>5496</th>\n",
       "      <td>101#M1a</td>\n",
       "      <td>0</td>\n",
       "      <td>430</td>\n",
       "      <td>Sa</td>\n",
       "      <td>2016-02-01</td>\n",
       "      <td>00:00</td>\n",
       "      <td>94.0</td>\n",
       "      <td>1.0</td>\n",
       "      <td>?</td>\n",
       "      <td>351.0</td>\n",
       "      <td>101</td>\n",
       "      <td>M1a</td>\n",
       "    </tr>\n",
       "    <tr>\n",
       "      <th>5497</th>\n",
       "      <td>102#M1b</td>\n",
       "      <td>1</td>\n",
       "      <td>9</td>\n",
       "      <td>Sa</td>\n",
       "      <td>2016-02-01</td>\n",
       "      <td>00:00</td>\n",
       "      <td>95.0</td>\n",
       "      <td>3.0</td>\n",
       "      <td></td>\n",
       "      <td>845.0</td>\n",
       "      <td>102</td>\n",
       "      <td>M1b</td>\n",
       "    </tr>\n",
       "    <tr>\n",
       "      <th>5498</th>\n",
       "      <td>103#M1c</td>\n",
       "      <td>1</td>\n",
       "      <td>508</td>\n",
       "      <td>Sa</td>\n",
       "      <td>2016-02-01</td>\n",
       "      <td>00:00</td>\n",
       "      <td>0.0</td>\n",
       "      <td>0.0</td>\n",
       "      <td></td>\n",
       "      <td>0.0</td>\n",
       "      <td>103</td>\n",
       "      <td>M1c</td>\n",
       "    </tr>\n",
       "  </tbody>\n",
       "</table>\n",
       "</div>"
      ],
      "text/plain": [
       "          rgs  pr    m  js     jjmmaa   hhmm  Vitesse   To Qualite      Q  \\\n",
       "5496  101#M1a   0  430  Sa 2016-02-01  00:00     94.0  1.0       ?  351.0   \n",
       "5497  102#M1b   1    9  Sa 2016-02-01  00:00     95.0  3.0          845.0   \n",
       "5498  103#M1c   1  508  Sa 2016-02-01  00:00      0.0  0.0            0.0   \n",
       "\n",
       "        A Code  \n",
       "5496  101  M1a  \n",
       "5497  102  M1b  \n",
       "5498  103  M1c  "
      ]
     },
     "execution_count": 8,
     "metadata": {},
     "output_type": "execute_result"
    }
   ],
   "source": [
    "df.head(3)"
   ]
  },
  {
   "cell_type": "code",
   "execution_count": 9,
   "metadata": {},
   "outputs": [],
   "source": [
    "# Garder que les Mardis et les Jeudis\n",
    "df1 = df[df['js'].str.startswith('Ma')]\n",
    "df2 = df[df['js'].str.startswith('Je')]"
   ]
  },
  {
   "cell_type": "code",
   "execution_count": 14,
   "metadata": {},
   "outputs": [],
   "source": [
    "df = pd.concat([df1, df2])"
   ]
  },
  {
   "cell_type": "code",
   "execution_count": 17,
   "metadata": {},
   "outputs": [],
   "source": [
    "df.index = range(len(df))"
   ]
  },
  {
   "cell_type": "code",
   "execution_count": 6,
   "metadata": {},
   "outputs": [],
   "source": [
    "# Pour enlever les weekends\n",
    "#df = df[~df['js'].astype(str).str.startswith('Sa')]\n",
    "#df = df[~df['js'].astype(str).str.startswith('Di')]"
   ]
  },
  {
   "cell_type": "code",
   "execution_count": 18,
   "metadata": {},
   "outputs": [],
   "source": [
    "# L'heure de pointe du matin de 7.30 a 9h\n",
    "cond1 = df.apply ( lambda row : row[\"hhmm\"] > '07:54', axis = 1 )\n",
    "cond2 = df.apply ( lambda row : row[\"hhmm\"] < '09:06', axis = 1 )\n",
    "# L'intersection des deux condition.\n",
    "df1 = pd.merge(df[cond1], df[cond2], how='inner')"
   ]
  },
  {
   "cell_type": "code",
   "execution_count": 19,
   "metadata": {},
   "outputs": [],
   "source": [
    "# de 9h a 10h\n",
    "cond1 = df.apply ( lambda row : row[\"hhmm\"] > '08:54', axis = 1 )\n",
    "cond2 = df.apply ( lambda row : row[\"hhmm\"] < '10:06', axis = 1 )\n",
    "# L'intersection des deux condition.\n",
    "df2 = pd.merge(df[cond1], df[cond2], how='inner')"
   ]
  },
  {
   "cell_type": "code",
   "execution_count": 20,
   "metadata": {},
   "outputs": [],
   "source": [
    "# L'heure de pointe du matin\n",
    "cond1 = df.apply ( lambda row : row[\"hhmm\"] > '11:54', axis = 1 )\n",
    "cond2 = df.apply ( lambda row : row[\"hhmm\"] < '13:06', axis = 1 )\n",
    "# L'intersection des deux condition.\n",
    "df3 = pd.merge(df[cond1], df[cond2], how='inner')"
   ]
  },
  {
   "cell_type": "code",
   "execution_count": 21,
   "metadata": {},
   "outputs": [],
   "source": [
    "# L'heure de pointe du Soir de 17 a 19\n",
    "cond1 = df.apply ( lambda row : row[\"hhmm\"] > '17:00', axis = 1 )\n",
    "cond2 = df.apply ( lambda row : row[\"hhmm\"] < '19:06', axis = 1 )\n",
    "# L'intersection des deux condition.\n",
    "df4 = pd.merge(df[cond1], df[cond2], how='inner')"
   ]
  },
  {
   "cell_type": "markdown",
   "metadata": {},
   "source": [
    "## La moyenne de la vitesse et le debit des heures de pointes"
   ]
  },
  {
   "cell_type": "code",
   "execution_count": 22,
   "metadata": {},
   "outputs": [],
   "source": [
    "vitesse_8_9 = df1[['Code','Vitesse','Q']].groupby('Code').mean()\n",
    "vitesse_9_10 = df2[['Code','Vitesse','Q']].groupby('Code').mean()\n",
    "vitesse_12_13 = df3[['Code','Vitesse','Q']].groupby('Code').mean()\n",
    "vitesse_17_19 = df4[['Code','Vitesse','Q']].groupby('Code').mean()"
   ]
  },
  {
   "cell_type": "code",
   "execution_count": 23,
   "metadata": {},
   "outputs": [],
   "source": [
    "VQ = pd.concat([vitesse_8_9,vitesse_9_10,vitesse_12_13,vitesse_17_19], axis = 1)\n",
    "VQ.columns = ['V_8_9','Q_8_9','V_9_10','Q_9_10','V_12_13','Q_12_13','V_17_19','Q_17_19']"
   ]
  },
  {
   "cell_type": "code",
   "execution_count": 24,
   "metadata": {},
   "outputs": [],
   "source": [
    "# Reindexer la table\n",
    "VQ['Code'] = VQ.index\n",
    "VQ.index = range(len(VQ))"
   ]
  },
  {
   "cell_type": "code",
   "execution_count": 25,
   "metadata": {},
   "outputs": [],
   "source": [
    "# table isidor\n",
    "df_isidor = pd.read_csv(\"table3.csv\",header=None, sep = ';')\n",
    "# renommer la colonne \n",
    "df_isidor.columns = ['Code']\n",
    "# renommer qlq stations\n",
    "df_isidor['Code'] = df_isidor['Code'].str.replace('MM713.','M7')\n",
    "df_isidor['Code'] = df_isidor['Code'].str.replace('MM613.','M6')\n",
    "df_isidor['Code'] = df_isidor['Code'].str.replace('MM513.','M5')\n",
    "df_isidor['Code'] = df_isidor['Code'].str.replace('MM413.','M4')\n",
    "df_isidor['Code'] = df_isidor['Code'].str.replace('MM113.','M1')"
   ]
  },
  {
   "cell_type": "code",
   "execution_count": 26,
   "metadata": {},
   "outputs": [],
   "source": [
    "#L'union Left\n",
    "result = pd.merge(df_isidor, VQ, how = 'left')"
   ]
  },
  {
   "cell_type": "code",
   "execution_count": 27,
   "metadata": {},
   "outputs": [
    {
     "data": {
      "text/plain": [
       "True"
      ]
     },
     "execution_count": 27,
     "metadata": {},
     "output_type": "execute_result"
    }
   ],
   "source": [
    "len(result) == len(df_isidor)"
   ]
  },
  {
   "cell_type": "code",
   "execution_count": 28,
   "metadata": {},
   "outputs": [],
   "source": [
    "# Exporter la table\n",
    "result.to_csv('VQ.csv', index = False, encoding = 'utf-8')"
   ]
  },
  {
   "cell_type": "markdown",
   "metadata": {},
   "source": [
    "## Les déciles 8 et 9 des vitesse des heures de pointe"
   ]
  },
  {
   "cell_type": "code",
   "execution_count": 29,
   "metadata": {},
   "outputs": [],
   "source": [
    "decile8_8_9 = df1[['Code','Vitesse','Q']].groupby('Code').quantile(0.8)\n",
    "decile8_9_10 = df2[['Code','Vitesse','Q']].groupby('Code').quantile(0.8)\n",
    "decile8_12_13 = df3[['Code','Vitesse','Q']].groupby('Code').quantile(0.8)\n",
    "decile8_17_19 = df4[['Code','Vitesse','Q']].groupby('Code').quantile(0.8)\n",
    "\n",
    "decile9_8_9 = df1[['Code','Vitesse','Q']].groupby('Code').quantile(0.9)\n",
    "decile9_9_10 = df2[['Code','Vitesse','Q']].groupby('Code').quantile(0.9)\n",
    "decile9_12_13 = df3[['Code','Vitesse','Q']].groupby('Code').quantile(0.9)\n",
    "decile9_17_19 = df4[['Code','Vitesse','Q']].groupby('Code').quantile(0.9)"
   ]
  },
  {
   "cell_type": "code",
   "execution_count": 31,
   "metadata": {},
   "outputs": [],
   "source": [
    "VQ_deciles = pd.concat([decile8_8_9,decile8_9_10,decile8_12_13,decile8_17_19,decile9_8_9,decile9_9_10\n",
    "                        ,decile9_12_13,decile9_17_19], axis = 1)\n",
    "VQ_deciles.columns = ['V8_8_9','Q8_8_9','V8_9_10','Q8_9_10','V8_12_13','Q8_12_13','V8_17_19','Q8_17_19'\n",
    "                      ,'V9_8_9','Q9_8_9','V9_9_10','Q9_9_10','V9_12_13','Q9_12_13','V9_17_19','Q9_17_19']"
   ]
  },
  {
   "cell_type": "code",
   "execution_count": 32,
   "metadata": {},
   "outputs": [
    {
     "data": {
      "text/html": [
       "<div>\n",
       "<style scoped>\n",
       "    .dataframe tbody tr th:only-of-type {\n",
       "        vertical-align: middle;\n",
       "    }\n",
       "\n",
       "    .dataframe tbody tr th {\n",
       "        vertical-align: top;\n",
       "    }\n",
       "\n",
       "    .dataframe thead th {\n",
       "        text-align: right;\n",
       "    }\n",
       "</style>\n",
       "<table border=\"1\" class=\"dataframe\">\n",
       "  <thead>\n",
       "    <tr style=\"text-align: right;\">\n",
       "      <th></th>\n",
       "      <th>V8_8_9</th>\n",
       "      <th>Q8_8_9</th>\n",
       "      <th>V8_9_10</th>\n",
       "      <th>Q8_9_10</th>\n",
       "      <th>V8_12_13</th>\n",
       "      <th>Q8_12_13</th>\n",
       "      <th>V8_17_19</th>\n",
       "      <th>Q8_17_19</th>\n",
       "      <th>V9_8_9</th>\n",
       "      <th>Q9_8_9</th>\n",
       "      <th>V9_9_10</th>\n",
       "      <th>Q9_9_10</th>\n",
       "      <th>V9_12_13</th>\n",
       "      <th>Q9_12_13</th>\n",
       "      <th>V9_17_19</th>\n",
       "      <th>Q9_17_19</th>\n",
       "    </tr>\n",
       "    <tr>\n",
       "      <th>Code</th>\n",
       "      <th></th>\n",
       "      <th></th>\n",
       "      <th></th>\n",
       "      <th></th>\n",
       "      <th></th>\n",
       "      <th></th>\n",
       "      <th></th>\n",
       "      <th></th>\n",
       "      <th></th>\n",
       "      <th></th>\n",
       "      <th></th>\n",
       "      <th></th>\n",
       "      <th></th>\n",
       "      <th></th>\n",
       "      <th></th>\n",
       "      <th></th>\n",
       "    </tr>\n",
       "  </thead>\n",
       "  <tbody>\n",
       "    <tr>\n",
       "      <th>M1A</th>\n",
       "      <td>2997.4</td>\n",
       "      <td>92.0</td>\n",
       "      <td>2799.4</td>\n",
       "      <td>94.0</td>\n",
       "      <td>2256.4</td>\n",
       "      <td>95.0</td>\n",
       "      <td>3291.8</td>\n",
       "      <td>92.0</td>\n",
       "      <td>3103.1</td>\n",
       "      <td>93.0</td>\n",
       "      <td>2924.4</td>\n",
       "      <td>95.0</td>\n",
       "      <td>2304.8</td>\n",
       "      <td>96.0</td>\n",
       "      <td>3410.0</td>\n",
       "      <td>93.0</td>\n",
       "    </tr>\n",
       "    <tr>\n",
       "      <th>M1B</th>\n",
       "      <td>2983.8</td>\n",
       "      <td>89.0</td>\n",
       "      <td>2896.2</td>\n",
       "      <td>91.0</td>\n",
       "      <td>2289.8</td>\n",
       "      <td>93.0</td>\n",
       "      <td>3340.6</td>\n",
       "      <td>88.0</td>\n",
       "      <td>3047.7</td>\n",
       "      <td>89.7</td>\n",
       "      <td>2977.2</td>\n",
       "      <td>92.0</td>\n",
       "      <td>2330.0</td>\n",
       "      <td>93.0</td>\n",
       "      <td>3448.8</td>\n",
       "      <td>88.4</td>\n",
       "    </tr>\n",
       "    <tr>\n",
       "      <th>M1C</th>\n",
       "      <td>5316.0</td>\n",
       "      <td>89.0</td>\n",
       "      <td>5195.8</td>\n",
       "      <td>91.0</td>\n",
       "      <td>4039.4</td>\n",
       "      <td>93.0</td>\n",
       "      <td>5969.8</td>\n",
       "      <td>87.0</td>\n",
       "      <td>5408.1</td>\n",
       "      <td>89.0</td>\n",
       "      <td>5316.4</td>\n",
       "      <td>92.0</td>\n",
       "      <td>4107.4</td>\n",
       "      <td>94.0</td>\n",
       "      <td>6163.8</td>\n",
       "      <td>88.0</td>\n",
       "    </tr>\n",
       "    <tr>\n",
       "      <th>M1D</th>\n",
       "      <td>5127.4</td>\n",
       "      <td>92.0</td>\n",
       "      <td>4990.2</td>\n",
       "      <td>94.0</td>\n",
       "      <td>3896.4</td>\n",
       "      <td>96.0</td>\n",
       "      <td>5892.8</td>\n",
       "      <td>89.0</td>\n",
       "      <td>5257.9</td>\n",
       "      <td>93.0</td>\n",
       "      <td>5225.6</td>\n",
       "      <td>95.0</td>\n",
       "      <td>3952.6</td>\n",
       "      <td>96.0</td>\n",
       "      <td>6030.6</td>\n",
       "      <td>91.0</td>\n",
       "    </tr>\n",
       "    <tr>\n",
       "      <th>M1E</th>\n",
       "      <td>0.0</td>\n",
       "      <td>0.0</td>\n",
       "      <td>0.0</td>\n",
       "      <td>0.0</td>\n",
       "      <td>0.0</td>\n",
       "      <td>0.0</td>\n",
       "      <td>0.0</td>\n",
       "      <td>0.0</td>\n",
       "      <td>0.0</td>\n",
       "      <td>0.0</td>\n",
       "      <td>0.0</td>\n",
       "      <td>0.0</td>\n",
       "      <td>0.0</td>\n",
       "      <td>0.0</td>\n",
       "      <td>0.0</td>\n",
       "      <td>0.0</td>\n",
       "    </tr>\n",
       "  </tbody>\n",
       "</table>\n",
       "</div>"
      ],
      "text/plain": [
       "      V8_8_9  Q8_8_9  V8_9_10  Q8_9_10  V8_12_13  Q8_12_13  V8_17_19  \\\n",
       "Code                                                                   \n",
       "M1A   2997.4    92.0   2799.4     94.0    2256.4      95.0    3291.8   \n",
       "M1B   2983.8    89.0   2896.2     91.0    2289.8      93.0    3340.6   \n",
       "M1C   5316.0    89.0   5195.8     91.0    4039.4      93.0    5969.8   \n",
       "M1D   5127.4    92.0   4990.2     94.0    3896.4      96.0    5892.8   \n",
       "M1E      0.0     0.0      0.0      0.0       0.0       0.0       0.0   \n",
       "\n",
       "      Q8_17_19  V9_8_9  Q9_8_9  V9_9_10  Q9_9_10  V9_12_13  Q9_12_13  \\\n",
       "Code                                                                   \n",
       "M1A       92.0  3103.1    93.0   2924.4     95.0    2304.8      96.0   \n",
       "M1B       88.0  3047.7    89.7   2977.2     92.0    2330.0      93.0   \n",
       "M1C       87.0  5408.1    89.0   5316.4     92.0    4107.4      94.0   \n",
       "M1D       89.0  5257.9    93.0   5225.6     95.0    3952.6      96.0   \n",
       "M1E        0.0     0.0     0.0      0.0      0.0       0.0       0.0   \n",
       "\n",
       "      V9_17_19  Q9_17_19  \n",
       "Code                      \n",
       "M1A     3410.0      93.0  \n",
       "M1B     3448.8      88.4  \n",
       "M1C     6163.8      88.0  \n",
       "M1D     6030.6      91.0  \n",
       "M1E        0.0       0.0  "
      ]
     },
     "execution_count": 32,
     "metadata": {},
     "output_type": "execute_result"
    }
   ],
   "source": [
    "VQ_deciles.head()"
   ]
  },
  {
   "cell_type": "code",
   "execution_count": 33,
   "metadata": {},
   "outputs": [],
   "source": [
    "# Reindexer la table\n",
    "VQ_deciles['Code'] = VQ_deciles.index\n",
    "VQ_deciles.index = range(len(VQ_deciles))"
   ]
  },
  {
   "cell_type": "code",
   "execution_count": 34,
   "metadata": {},
   "outputs": [],
   "source": [
    "#L'union Left\n",
    "result_deciles = pd.merge(df_isidor, VQ_deciles, how = 'left')"
   ]
  },
  {
   "cell_type": "code",
   "execution_count": 35,
   "metadata": {},
   "outputs": [
    {
     "data": {
      "text/plain": [
       "True"
      ]
     },
     "execution_count": 35,
     "metadata": {},
     "output_type": "execute_result"
    }
   ],
   "source": [
    "len(result_deciles) == len(df_isidor)"
   ]
  },
  {
   "cell_type": "code",
   "execution_count": 36,
   "metadata": {},
   "outputs": [],
   "source": [
    "# Exporter la table\n",
    "result_deciles.to_csv('VQ_deciles.csv', index = False, encoding = 'utf-8')"
   ]
  },
  {
   "cell_type": "markdown",
   "metadata": {},
   "source": [
    "## Les déciles 1 et 2 des vitesse des heures de pointe"
   ]
  },
  {
   "cell_type": "code",
   "execution_count": 38,
   "metadata": {},
   "outputs": [],
   "source": [
    "decile1_8_9 = df1[['Code','Vitesse','Q']].groupby('Code').quantile(0.8)\n",
    "decile1_9_10 = df2[['Code','Vitesse','Q']].groupby('Code').quantile(0.8)\n",
    "decile1_12_13 = df3[['Code','Vitesse','Q']].groupby('Code').quantile(0.8)\n",
    "decile1_17_19 = df4[['Code','Vitesse','Q']].groupby('Code').quantile(0.8)\n",
    "\n",
    "decile2_8_9 = df1[['Code','Vitesse','Q']].groupby('Code').quantile(0.9)\n",
    "decile2_9_10 = df2[['Code','Vitesse','Q']].groupby('Code').quantile(0.9)\n",
    "decile2_12_13 = df3[['Code','Vitesse','Q']].groupby('Code').quantile(0.9)\n",
    "decile2_17_19 = df4[['Code','Vitesse','Q']].groupby('Code').quantile(0.9)"
   ]
  },
  {
   "cell_type": "code",
   "execution_count": 39,
   "metadata": {},
   "outputs": [],
   "source": [
    "VQ_deciles12 = pd.concat([decile1_8_9,decile1_9_10,decile1_12_13,decile1_17_19,decile2_8_9,decile2_9_10\n",
    "                        ,decile2_12_13,decile2_17_19], axis = 1)\n",
    "VQ_deciles12.columns = ['V1_8_9','Q1_8_9','V1_9_10','Q1_9_10','V1_12_13','Q1_12_13','V1_17_19','Q1_17_19'\n",
    "                      ,'V2_8_9','Q2_8_9','V2_9_10','Q2_9_10','V2_12_13','Q2_12_13','V2_17_19','Q2_17_19']"
   ]
  },
  {
   "cell_type": "code",
   "execution_count": 41,
   "metadata": {},
   "outputs": [],
   "source": [
    "# Reindexer la table\n",
    "VQ_deciles12['Code'] = VQ_deciles12.index\n",
    "VQ_deciles12.index = range(len(VQ_deciles12))"
   ]
  },
  {
   "cell_type": "code",
   "execution_count": 42,
   "metadata": {},
   "outputs": [],
   "source": [
    "#L'union Left\n",
    "result_deciles12 = pd.merge(df_isidor, VQ_deciles12, how = 'left')"
   ]
  },
  {
   "cell_type": "code",
   "execution_count": 43,
   "metadata": {},
   "outputs": [],
   "source": [
    "# Exporter la table\n",
    "result_deciles12.to_csv('VQ_deciles12.csv', index = False, encoding = 'utf-8')"
   ]
  },
  {
   "cell_type": "code",
   "execution_count": null,
   "metadata": {},
   "outputs": [],
   "source": []
  }
 ],
 "metadata": {
  "kernelspec": {
   "display_name": "Python 3",
   "language": "python",
   "name": "python3"
  },
  "language_info": {
   "codemirror_mode": {
    "name": "ipython",
    "version": 3
   },
   "file_extension": ".py",
   "mimetype": "text/x-python",
   "name": "python",
   "nbconvert_exporter": "python",
   "pygments_lexer": "ipython3",
   "version": "3.7.1"
  }
 },
 "nbformat": 4,
 "nbformat_minor": 2
}
